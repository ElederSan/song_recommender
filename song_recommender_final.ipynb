{
 "cells": [
  {
   "cell_type": "code",
   "execution_count": 1,
   "id": "8bce0538",
   "metadata": {},
   "outputs": [],
   "source": [
    "import pandas as pd\n",
    "from sklearn import datasets # sklearn comes with some toy datasets to practise\n",
    "from sklearn.preprocessing import StandardScaler\n",
    "from sklearn.cluster import KMeans\n",
    "import sys\n",
    "import numpy as np\n",
    "# Make sure that your config.py Python file with your credentials is located\n",
    "# in the same folder as your Jupyter notebook.\n",
    "from config import *\n",
    "import pickle"
   ]
  },
  {
   "cell_type": "code",
   "execution_count": 2,
   "id": "014f2851",
   "metadata": {},
   "outputs": [],
   "source": [
    "from sklearn.datasets import make_classification\n",
    "from sklearn.cluster import HDBSCAN\n",
    "from scipy.spatial.distance import euclidean\n",
    "from sklearn.metrics import silhouette_score, calinski_harabasz_score\n",
    "from kneed import KneeLocator\n",
    "import matplotlib.pyplot as plt\n",
    "import seaborn as sns\n",
    "import colorcet as cc\n",
    "import time"
   ]
  },
  {
   "cell_type": "code",
   "execution_count": 3,
   "id": "ae75e98e",
   "metadata": {},
   "outputs": [],
   "source": [
    "from functions import*"
   ]
  },
  {
   "cell_type": "code",
   "execution_count": 4,
   "id": "6906e243",
   "metadata": {},
   "outputs": [],
   "source": [
    "from IPython.display import clear_output"
   ]
  },
  {
   "cell_type": "code",
   "execution_count": 5,
   "id": "75c1e728",
   "metadata": {},
   "outputs": [],
   "source": [
    "from scipy.spatial import distance_matrix"
   ]
  },
  {
   "cell_type": "code",
   "execution_count": 6,
   "id": "01839e45",
   "metadata": {},
   "outputs": [],
   "source": [
    "from IPython.display import display, HTML"
   ]
  },
  {
   "cell_type": "code",
   "execution_count": 7,
   "id": "082def7d",
   "metadata": {},
   "outputs": [],
   "source": [
    "import spotipy\n",
    "import json\n",
    "from spotipy.oauth2 import SpotifyClientCredentials\n",
    "\n",
    "\n",
    "#Initialize SpotiPy with user credentias #\n",
    "sp = spotipy.Spotify(auth_manager=SpotifyClientCredentials(client_id=Client_ID,\n",
    "                                                           client_secret=Client_Secret))"
   ]
  },
  {
   "cell_type": "code",
   "execution_count": 8,
   "id": "287064cb",
   "metadata": {},
   "outputs": [],
   "source": [
    "sp._session.timeout = 10"
   ]
  },
  {
   "cell_type": "code",
   "execution_count": 16,
   "id": "bb4a89a0",
   "metadata": {},
   "outputs": [],
   "source": [
    "import pickle\n",
    "\n",
    "def main():\n",
    "    \n",
    "    # We import the scalers and required df\n",
    "    \n",
    "    scaler_filename = \"./scaler_v1.pickle\"\n",
    "    with open(scaler_filename, \"rb\") as file:\n",
    "        scaler = pickle.load(file)\n",
    "        \n",
    "    umap_filename = \"./umap.pickle\"\n",
    "    with open(umap_filename, \"rb\") as file:\n",
    "        umap = pickle.load(file)\n",
    "        \n",
    "    database_filename = \"./umap_df.csv\"\n",
    "    X_umap_df = pd.read_csv(database_filename)\n",
    "    \n",
    "    all_songs_filename = \"../../Day_3/Afternoon/lab-clustering-songs/all_songs_clustered.csv\"\n",
    "    all_songs = pd.read_csv(all_songs_filename)\n",
    "    all_songs['open_link'] = all_songs['id'].apply(lambda track_id: f'<a href=\"https://open.spotify.com/track/{track_id}\" target=\"_blank\">Click me</a>')\n",
    "      \n",
    "    answer = True\n",
    "    while answer == True:\n",
    "        # Ask the user to enter a song\n",
    "        \n",
    "        user_input = input(\"Please enter your song: \")\n",
    "        \n",
    "        # Based on the users input we show a list of 5 song matches among which the user has to select\n",
    "        \n",
    "        five_songs = search_song_five(user_input)\n",
    "        if five_songs.empty:\n",
    "            print(\"Sorry, no songs found. Please enter a different song.\")\n",
    "            continue  # Ask for a new input if no songs are found\n",
    "        five_songs_no_id=five_songs.drop(columns=\"id\")\n",
    "        display(five_songs_no_id)\n",
    "        \n",
    "        # The user returns an int among 0 and 4, which is then used to retrieve the song id from the five_songs df\n",
    "        \n",
    "        select_track = int(input(\"Please select your track from, giving a number between 0 and 4:\"))\n",
    "        song_id = five_songs.iloc[select_track,2]\n",
    "        \n",
    "        # With the song id we extract the audio features for the song\n",
    "        \n",
    "        audio_feat=get_audio_features_for_chunks(sp, song_id,sleep_time=0)\n",
    "        \n",
    "        # To proceed with the modelling, we extract the numerical values of the audio_feat df:\n",
    "        \n",
    "        X = audio_feat.select_dtypes(np.number)\n",
    "        \n",
    "        # We apply the previous loaded umap dimensionality reduction, which seems to be the best performing one and convert it into a DataFrame:\n",
    "        \n",
    "        umap_representation = umap.transform(X)\n",
    "                \n",
    "        user_song_umap_df= pd.DataFrame(umap_representation,columns=[\"UMAP_1\",\"UMAP_2\"])\n",
    "        \n",
    "        # Since the DBSCAN does not have fit method, we calculate the distance among the user´s choice and all \n",
    "        #the songs with the method distance_matrix from scipy.spatial.distance:\n",
    "        \n",
    "        d = distance_matrix(user_song_umap_df, X_umap_df.iloc[:,[0,1]]) #numpy array\n",
    "        closest_song_to_user_song = np.argmin(d)\n",
    "        \n",
    "        # We retrieve the cluster from the all_songs df, using the index obtained for the closest record measured.\n",
    "        \n",
    "        cluster=X_umap_df.iloc[closest_song_to_user_song,-1]\n",
    "        \n",
    "        # Passing the function get_records_by_id_and_cluster we check if the song id is within the \"hot\" flagged songs. \n",
    "        # If the song is \"hot\" we return 5 song suggestions flagged as \"hot\" from the same cluster\n",
    "        # If the song is \"not_hot\" we return 5 song suggestions flagged as \"not_hot\" from the same cluster\n",
    "        \n",
    "        recommended_songs=get_records_by_id_and_cluster(all_songs,song_id,cluster)\n",
    "        recommended_songs = recommended_songs[[\"artist\",\"title\",\"open_link\"]]\n",
    "        \n",
    "        print(\"Please check the recommendations we have selected for you:\\n\\n\")\n",
    "        \n",
    "        # We use the method .to_html to make the url link of the song clickable:\n",
    "        \n",
    "        display(HTML(recommended_songs.to_html(escape=False)))\n",
    "\n",
    "        # Ask the user if they want more recommendations\n",
    "        user_response = input(\"Do you want to get more songs recommended? (yes/no): \").lower()\n",
    "        while user_response not in [\"yes\", \"no\"]:\n",
    "            print(\"\\n\")\n",
    "            print(\"Please enter (yes/no)\\n\")\n",
    "            user_response = input(\"Do you want to get more songs recommended? (yes/no): \").lower()\n",
    "            print(\"\\n\")\n",
    "\n",
    "        # Check if the user wants more recommendations\n",
    "        if user_response == 'no':\n",
    "            answer = False"
   ]
  },
  {
   "cell_type": "code",
   "execution_count": null,
   "id": "e924e023",
   "metadata": {},
   "outputs": [],
   "source": []
  },
  {
   "cell_type": "code",
   "execution_count": 22,
   "id": "a6018c96",
   "metadata": {},
   "outputs": [
    {
     "name": "stdout",
     "output_type": "stream",
     "text": [
      "Please enter your song: pretender\n"
     ]
    },
    {
     "data": {
      "text/html": [
       "<div>\n",
       "<style scoped>\n",
       "    .dataframe tbody tr th:only-of-type {\n",
       "        vertical-align: middle;\n",
       "    }\n",
       "\n",
       "    .dataframe tbody tr th {\n",
       "        vertical-align: top;\n",
       "    }\n",
       "\n",
       "    .dataframe thead th {\n",
       "        text-align: right;\n",
       "    }\n",
       "</style>\n",
       "<table border=\"1\" class=\"dataframe\">\n",
       "  <thead>\n",
       "    <tr style=\"text-align: right;\">\n",
       "      <th></th>\n",
       "      <th>title</th>\n",
       "      <th>artist</th>\n",
       "    </tr>\n",
       "  </thead>\n",
       "  <tbody>\n",
       "    <tr>\n",
       "      <th>0</th>\n",
       "      <td>The Pretender</td>\n",
       "      <td>Foo Fighters</td>\n",
       "    </tr>\n",
       "    <tr>\n",
       "      <th>1</th>\n",
       "      <td>The Pretender</td>\n",
       "      <td>Lewis Capaldi</td>\n",
       "    </tr>\n",
       "    <tr>\n",
       "      <th>2</th>\n",
       "      <td>The Pretender</td>\n",
       "      <td>Lewis Capaldi</td>\n",
       "    </tr>\n",
       "    <tr>\n",
       "      <th>3</th>\n",
       "      <td>The Pretender</td>\n",
       "      <td>Jackson Browne</td>\n",
       "    </tr>\n",
       "    <tr>\n",
       "      <th>4</th>\n",
       "      <td>The Pretender</td>\n",
       "      <td>Lewis Capaldi</td>\n",
       "    </tr>\n",
       "  </tbody>\n",
       "</table>\n",
       "</div>"
      ],
      "text/plain": [
       "           title          artist\n",
       "0  The Pretender    Foo Fighters\n",
       "1  The Pretender   Lewis Capaldi\n",
       "2  The Pretender   Lewis Capaldi\n",
       "3  The Pretender  Jackson Browne\n",
       "4  The Pretender   Lewis Capaldi"
      ]
     },
     "metadata": {},
     "output_type": "display_data"
    },
    {
     "name": "stdout",
     "output_type": "stream",
     "text": [
      "Please select your track from, giving a number between 0 and 4:0\n",
      "Please check the recommendations we have selected for you:\n",
      "\n",
      "\n"
     ]
    },
    {
     "data": {
      "text/html": [
       "<table border=\"1\" class=\"dataframe\">\n",
       "  <thead>\n",
       "    <tr style=\"text-align: right;\">\n",
       "      <th></th>\n",
       "      <th>artist</th>\n",
       "      <th>title</th>\n",
       "      <th>open_link</th>\n",
       "    </tr>\n",
       "  </thead>\n",
       "  <tbody>\n",
       "    <tr>\n",
       "      <th>167</th>\n",
       "      <td>esther phillips</td>\n",
       "      <td>just say goodbye</td>\n",
       "      <td><a href=\"https://open.spotify.com/track/5HiI5koKreGVsXAB5F0uuw\" target=\"_blank\">Click me</a></td>\n",
       "    </tr>\n",
       "    <tr>\n",
       "      <th>1621</th>\n",
       "      <td>astrud gilberto</td>\n",
       "      <td>didn't we</td>\n",
       "      <td><a href=\"https://open.spotify.com/track/3QKJELWORZZ7rUZDWeMWSA\" target=\"_blank\">Click me</a></td>\n",
       "    </tr>\n",
       "    <tr>\n",
       "      <th>1553</th>\n",
       "      <td>dean martin</td>\n",
       "      <td>blue smoke (kohu-auwahi)</td>\n",
       "      <td><a href=\"https://open.spotify.com/track/2L9QLAhrvtP4EYg1lY0Tnw\" target=\"_blank\">Click me</a></td>\n",
       "    </tr>\n",
       "    <tr>\n",
       "      <th>2794</th>\n",
       "      <td>trapt</td>\n",
       "      <td>bring it</td>\n",
       "      <td><a href=\"https://open.spotify.com/track/4lmnX8PMSRNlJjxjl3KOiP\" target=\"_blank\">Click me</a></td>\n",
       "    </tr>\n",
       "    <tr>\n",
       "      <th>1218</th>\n",
       "      <td>del shannon</td>\n",
       "      <td>cry myself to sleep</td>\n",
       "      <td><a href=\"https://open.spotify.com/track/45Szkclj1lt4ubm7RFK68t\" target=\"_blank\">Click me</a></td>\n",
       "    </tr>\n",
       "  </tbody>\n",
       "</table>"
      ],
      "text/plain": [
       "<IPython.core.display.HTML object>"
      ]
     },
     "metadata": {},
     "output_type": "display_data"
    },
    {
     "name": "stdout",
     "output_type": "stream",
     "text": [
      "Do you want to get more songs recommended? (yes/no): yes\n",
      "Please enter your song: cadillac solitario\n"
     ]
    },
    {
     "data": {
      "text/html": [
       "<div>\n",
       "<style scoped>\n",
       "    .dataframe tbody tr th:only-of-type {\n",
       "        vertical-align: middle;\n",
       "    }\n",
       "\n",
       "    .dataframe tbody tr th {\n",
       "        vertical-align: top;\n",
       "    }\n",
       "\n",
       "    .dataframe thead th {\n",
       "        text-align: right;\n",
       "    }\n",
       "</style>\n",
       "<table border=\"1\" class=\"dataframe\">\n",
       "  <thead>\n",
       "    <tr style=\"text-align: right;\">\n",
       "      <th></th>\n",
       "      <th>title</th>\n",
       "      <th>artist</th>\n",
       "    </tr>\n",
       "  </thead>\n",
       "  <tbody>\n",
       "    <tr>\n",
       "      <th>0</th>\n",
       "      <td>Cadillac solitario</td>\n",
       "      <td>Loquillo</td>\n",
       "    </tr>\n",
       "    <tr>\n",
       "      <th>1</th>\n",
       "      <td>Cadillac solitario</td>\n",
       "      <td>Loquillo</td>\n",
       "    </tr>\n",
       "    <tr>\n",
       "      <th>2</th>\n",
       "      <td>Cadillac solitario - Live</td>\n",
       "      <td>Loquillo Y Los Trogloditas, Loquillo</td>\n",
       "    </tr>\n",
       "    <tr>\n",
       "      <th>3</th>\n",
       "      <td>Cadillac Solitario - Bonus Track</td>\n",
       "      <td>Buitres</td>\n",
       "    </tr>\n",
       "    <tr>\n",
       "      <th>4</th>\n",
       "      <td>Cadillac Solitario</td>\n",
       "      <td>Clara Roldan</td>\n",
       "    </tr>\n",
       "  </tbody>\n",
       "</table>\n",
       "</div>"
      ],
      "text/plain": [
       "                              title                                artist\n",
       "0                Cadillac solitario                              Loquillo\n",
       "1                Cadillac solitario                              Loquillo\n",
       "2         Cadillac solitario - Live  Loquillo Y Los Trogloditas, Loquillo\n",
       "3  Cadillac Solitario - Bonus Track                               Buitres\n",
       "4                Cadillac Solitario                          Clara Roldan"
      ]
     },
     "metadata": {},
     "output_type": "display_data"
    },
    {
     "name": "stdout",
     "output_type": "stream",
     "text": [
      "Please select your track from, giving a number between 0 and 4:1\n",
      "Please check the recommendations we have selected for you:\n",
      "\n",
      "\n"
     ]
    },
    {
     "data": {
      "text/html": [
       "<table border=\"1\" class=\"dataframe\">\n",
       "  <thead>\n",
       "    <tr style=\"text-align: right;\">\n",
       "      <th></th>\n",
       "      <th>artist</th>\n",
       "      <th>title</th>\n",
       "      <th>open_link</th>\n",
       "    </tr>\n",
       "  </thead>\n",
       "  <tbody>\n",
       "    <tr>\n",
       "      <th>2927</th>\n",
       "      <td>sister rosetta tharpe</td>\n",
       "      <td>rock me</td>\n",
       "      <td><a href=\"https://open.spotify.com/track/0ff9ixoxJnJgQ3o5rx3wZP\" target=\"_blank\">Click me</a></td>\n",
       "    </tr>\n",
       "    <tr>\n",
       "      <th>1415</th>\n",
       "      <td>shirley bassey</td>\n",
       "      <td>till</td>\n",
       "      <td><a href=\"https://open.spotify.com/track/3Tp3nTswQmMzmQRqZu4iM2\" target=\"_blank\">Click me</a></td>\n",
       "    </tr>\n",
       "    <tr>\n",
       "      <th>876</th>\n",
       "      <td>josé gonzález</td>\n",
       "      <td>heartbeats</td>\n",
       "      <td><a href=\"https://open.spotify.com/track/5YqpHuXpFjDVZ7tY1ClFll\" target=\"_blank\">Click me</a></td>\n",
       "    </tr>\n",
       "    <tr>\n",
       "      <th>1013</th>\n",
       "      <td>johnny cash</td>\n",
       "      <td>after the ball</td>\n",
       "      <td><a href=\"https://open.spotify.com/track/2fDHuS1PTkHBbCWWZF1ph9\" target=\"_blank\">Click me</a></td>\n",
       "    </tr>\n",
       "    <tr>\n",
       "      <th>1032</th>\n",
       "      <td>grover washington, jr.</td>\n",
       "      <td>be mine (tonight) (feat. grady tate)</td>\n",
       "      <td><a href=\"https://open.spotify.com/track/2KklXplRtxMsBYo474Es0w\" target=\"_blank\">Click me</a></td>\n",
       "    </tr>\n",
       "  </tbody>\n",
       "</table>"
      ],
      "text/plain": [
       "<IPython.core.display.HTML object>"
      ]
     },
     "metadata": {},
     "output_type": "display_data"
    },
    {
     "name": "stdout",
     "output_type": "stream",
     "text": [
      "Do you want to get more songs recommended? (yes/no): ss\n",
      "\n",
      "\n",
      "Please enter (yes/no)\n",
      "\n",
      "Do you want to get more songs recommended? (yes/no): tt\n",
      "\n",
      "\n",
      "\n",
      "\n",
      "Please enter (yes/no)\n",
      "\n",
      "Do you want to get more songs recommended? (yes/no): no\n",
      "\n",
      "\n"
     ]
    }
   ],
   "source": [
    "main()"
   ]
  },
  {
   "cell_type": "code",
   "execution_count": null,
   "id": "447124af",
   "metadata": {},
   "outputs": [],
   "source": []
  }
 ],
 "metadata": {
  "kernelspec": {
   "display_name": "Python 3 (ipykernel)",
   "language": "python",
   "name": "python3"
  },
  "language_info": {
   "codemirror_mode": {
    "name": "ipython",
    "version": 3
   },
   "file_extension": ".py",
   "mimetype": "text/x-python",
   "name": "python",
   "nbconvert_exporter": "python",
   "pygments_lexer": "ipython3",
   "version": "3.11.5"
  }
 },
 "nbformat": 4,
 "nbformat_minor": 5
}
